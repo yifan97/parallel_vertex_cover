{
 "cells": [
  {
   "cell_type": "code",
   "execution_count": 19,
   "metadata": {},
   "outputs": [],
   "source": [
    "from random import seed\n",
    "from random import randint"
   ]
  },
  {
   "cell_type": "code",
   "execution_count": 22,
   "metadata": {},
   "outputs": [
    {
     "name": "stdout",
     "output_type": "stream",
     "text": [
      "3298\n",
      "3298 23875\n",
      "\n"
     ]
    }
   ],
   "source": [
    "seed(26)\n",
    "N = 0\n",
    "E = 0;\n",
    "nodes = {}\n",
    "edges = {}\n",
    "with open('hollins.dat', 'r') as file:\n",
    "    Lines = file.readlines()\n",
    "    info = Lines[0].split(\" \");\n",
    "    N = int(info[0]);\n",
    "    E = int(info[1]);\n",
    "    for i in range(N+1, N+E+1):\n",
    "        line = Lines[i];\n",
    "        tokens = line.split(\" \");\n",
    "        edges[int(tokens[0])] = int(tokens[1]);\n",
    "#         print(line);\n",
    "    for i in range(1, N+1):\n",
    "        line = Lines[i];\n",
    "        tokens = line.split(\" \");\n",
    "        if int(tokens[0]) in edges or int(tokens[0]) in edges.values():\n",
    "            nodes[int(tokens[0])] = randint(1,20);\n",
    "#         print(line);\n",
    "print(len(nodes))\n",
    "file.close()\n",
    "with open('vertex weighted graph', 'w') as output:\n",
    "    output.write(str(len(nodes)) + \" \" + str(E) + \"\\n\")\n",
    "    print(str(len(nodes)) + \" \" + str(E) + \"\\n\")\n",
    "    for k,v in nodes.items():\n",
    "        output.write(str(k) +\" \" + str(v) + \"\\n\")\n",
    "    for k,v in edges.items():\n",
    "        output.write(str(k) +\" \" + str(v) + \"\\n\")\n",
    "output.close()\n",
    "        \n"
   ]
  }
 ],
 "metadata": {
  "kernelspec": {
   "display_name": "Python 3",
   "language": "python",
   "name": "python3"
  },
  "language_info": {
   "codemirror_mode": {
    "name": "ipython",
    "version": 3
   },
   "file_extension": ".py",
   "mimetype": "text/x-python",
   "name": "python",
   "nbconvert_exporter": "python",
   "pygments_lexer": "ipython3",
   "version": "3.7.4"
  }
 },
 "nbformat": 4,
 "nbformat_minor": 2
}
